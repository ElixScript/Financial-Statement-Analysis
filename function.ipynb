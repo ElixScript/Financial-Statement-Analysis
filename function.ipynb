{
 "cells": [
  {
   "cell_type": "markdown",
   "id": "6195606f-f3aa-43d9-a1f3-bcbb7721f9ff",
   "metadata": {},
   "source": [
    "# function"
   ]
  },
  {
   "cell_type": "markdown",
   "id": "1592f1ac-6162-4503-b901-364bdfaf979e",
   "metadata": {},
   "source": [
    "Function dalam Python adalah blok kode yang dirancang untuk melakukan tugas tertentu dan dapat digunakan kembali di berbagai tempat dalam program. Berikut adalah beberapa konsep dasar dan fitur dari function dalam Python:\r\n",
    "\r\n",
    "1. **Mendefinisikan Function**: Function didefinisikan menggunakan kata kunci `def` diikuti dengan nama function dan tanda kurung `()`. Di dalam tanda kurung, Anda bisa mendefinisikan parameter jika diperlukan. Setelah tanda kurung, terdapat tanda titik dua `:` dan diikuti dengan indentasi yang berisi blok kode yang menjadi isi dari function.\r\n",
    "   ```python\r\n",
    "   def my_function():\r\n",
    "       print(\"Hello, world!\")\r\n",
    "   ```\r\n",
    "\r\n",
    "2. **Memanggil Function**: Function dipanggil dengan menuliskan nama function diikuti dengan tanda kurung.\r\n",
    "   ```python\r\n",
    "   my_function()  # Output: Hello, world!\r\n",
    "   ```\r\n",
    "\r\n",
    "3. **Parameter dan Argumen**: Function dapat menerima parameter yang memungkinkan Anda untuk mengirim data ke function saat memanggilnya.\r\n",
    "   ```python\r\n",
    "   def greet(name):\r\n",
    "       print(f\"Hello, {name}!\")\r\n",
    "\r\n",
    "   greet(\"Alice\")  # Output: Hello, Alice!\r\n",
    "   ```\r\n",
    "\r\n",
    "4. **Return Value**: Function dapat mengembalikan nilai menggunakan kata kunci `return`.\r\n",
    "   ```python\r\n",
    "   def add(a, b):\r\n",
    "       return a + b\r\n",
    "\r\n",
    "   result = add(3, 5)\r\n",
    "   print(result)  # Output: 8\r\n",
    "   ```\r\n",
    "\r\n",
    "5. **Default Parameter**: Anda dapat mendefinisikan nilai default untuk parameter, yang akan digunakan jika tidak ada argumen yang diberikan saat function dipanggil.\r\n",
    "   ```python\r\n",
    "   def greet(name=\"World\"):\r\n",
    "       print(f\"Hello, {name}!\")\r\n",
    "\r\n",
    "   greet()         # Output: Hello, World!\r\n",
    "   greet(\"Alice\")  # Output: Hello, Alice!\r\n",
    "   ```\r\n",
    "\r\n",
    "6. **Keyword Arguments**: Saat memanggil function, Anda dapat menyebutkan argumen dengan nama parameter yang sesuai, memungkinkan Anda untuk mengabaikan urutan argumen.\r\n",
    "   ```python\r\n",
    "   def describe_pet(animal_type, pet_name):\r\n",
    "       print(f\"I have a {animal_type} named {pet_name}.\")\r\n",
    "\r\n",
    "   describe_pet(animal_type=\"dog\", pet_name=\"Rex\")\r\n",
    "   describe_pet(pet_name=\"Milo\", animal_type=\"cat\")\r\n",
    "   ```\r\n",
    "\r\n",
    "7. **Arbitrary Arguments**: Kadang-kadang Anda mungkin ingin function menerima jumlah argumen yang tidak diketahui. Anda dapat menggunakan `*args` untuk menerima sejumlah argumen posisional yang tidak diketahui dan `**kwargs` untuk menerima sejumlah argumen kata kunci yang tidak diketahui.\r\n",
    "   ```python\r\n",
    "   def make_pizza(*toppings):\r\n",
    "       print(\"Making a pizza with the following toppings:\")\r\n",
    "       for topping in toppings:\r\n",
    "           print(f\"- {topping}\")\r\n",
    "\r\n",
    "   make_pizza(\"pepperoni\", \"mushrooms\", \"extra cheese\")\r\n",
    "   ```\r\n",
    "\r\n",
    "   ```python\r\n",
    "   def build_profile(first, last, **user_info):\r\n",
    "       profile = {\"first_name\": first, \"last_name\": last}\r\n",
    "       for key, value in user_info.items():\r\n",
    "           profile[key] = value\r\n",
    "       return profile\r\n",
    "\r\n",
    "   user_profile = build_profile(\"Albert\", \"Einstein\", location=\"Princeton\", field=\"Physics\")\r\n",
    "   print(user_profile)\r\n",
    "   # Output: {'first_name': 'Albert', 'last_name': 'Einstein', 'location': 'Princeton', 'field': 'Physics'}\r\n",
    "   ```\r\n",
    "\r\n",
    "8. **Function sebagai Objek**: Function dalam Python adalah objek, sehingga Anda dapat menyimpannya dalam variabel, mengirimkannya sebagai argumen ke function lain, atau mengembalikannya dari function lain.\r\n",
    "   ```python\r\n",
    "   def add(a, b):\r\n",
    "       return a + b\r\n",
    "\r\n",
    "   def subtract(a, b):\r\n",
    "       return a - b\r\n",
    "\r\n",
    "   def operate(func, a, b):\r\n",
    "       return func(a, b)\r\n",
    "\r\n",
    "   result = operate(add, 3, 5)\r\n",
    "   print(result)  # Output: 8\r\n",
    "\r\n",
    "   result = operate(subtract, 10, 3)\r\n",
    "   print(result)  # Output: 7\r\n",
    "   ```\r\n",
    "\r\n",
    "9. **Lambda Function**: Lambda adalah fungsi anonim yang didefinisikan menggunakan kata kunci `lambda`. Lambda function bisa digunakan untuk mendefinisikan fungsi sederhana dalam satu baris.\r\n",
    "   ```python\r\n",
    "   add = lambda a, b: a + b\r\n",
    "   print(add(3, 5))  # Output: 8\r\n",
    "   ```\r\n",
    "\r\n",
    "10. **Dokumentasi Function**: Anda bisa menambahkan docstring ke function untuk mendokumentasikan apa yang dilakukan function. Docstring adalah string literal pertama dalam tubuh function dan digunakan oleh fungsi `help()` dan `__doc__`.\r\n",
    "    ```python\r\n",
    "    def greet(name):\r\n",
    "        \"\"\"Mencetak pesan salam untuk nama yang diberikan.\"\"\"\r\n",
    "        print(f\"Hello, {name}!\")\r\n",
    "\r\n",
    "    print(greet.__doc__)  # Output: Mencetak pesan salam untuk nama yang diberikan.\r\n",
    "    ```\r\n",
    "\r\n",
    "Function sangat berguna untuk mengorganisir kode, menghindari pengulangan, dan membuat kode lebih modular dan mudah dibaca."
   ]
  },
  {
   "cell_type": "code",
   "execution_count": 6,
   "id": "b96feba9-866b-442f-8922-57d260a2f35d",
   "metadata": {},
   "outputs": [],
   "source": [
    "list = list(range(2,9))"
   ]
  },
  {
   "cell_type": "code",
   "execution_count": 8,
   "id": "30fb1e13-70da-40ba-b8cd-ed63c5bd69be",
   "metadata": {},
   "outputs": [
    {
     "data": {
      "text/plain": [
       "[2, 3, 4, 5, 6, 7, 8]"
      ]
     },
     "execution_count": 8,
     "metadata": {},
     "output_type": "execute_result"
    }
   ],
   "source": [
    "list"
   ]
  },
  {
   "cell_type": "code",
   "execution_count": 10,
   "id": "4beca62b-ab7b-4c44-a16f-08650716c6be",
   "metadata": {},
   "outputs": [
    {
     "data": {
      "text/plain": [
       "7"
      ]
     },
     "execution_count": 10,
     "metadata": {},
     "output_type": "execute_result"
    }
   ],
   "source": [
    "len(list)"
   ]
  },
  {
   "cell_type": "code",
   "execution_count": 12,
   "id": "22b1a063-8523-42c6-81e2-706fa89089bc",
   "metadata": {},
   "outputs": [
    {
     "data": {
      "text/plain": [
       "8"
      ]
     },
     "execution_count": 12,
     "metadata": {},
     "output_type": "execute_result"
    }
   ],
   "source": [
    "max(list)"
   ]
  },
  {
   "cell_type": "code",
   "execution_count": 14,
   "id": "16f0e40b-81a1-4d0c-a67d-a847c6b14307",
   "metadata": {},
   "outputs": [
    {
     "data": {
      "text/plain": [
       "2"
      ]
     },
     "execution_count": 14,
     "metadata": {},
     "output_type": "execute_result"
    }
   ],
   "source": [
    "min(list)"
   ]
  },
  {
   "cell_type": "code",
   "execution_count": null,
   "id": "f4367896-88a3-43b5-80f7-0fd1a92584e9",
   "metadata": {},
   "outputs": [],
   "source": []
  }
 ],
 "metadata": {
  "kernelspec": {
   "display_name": "Python 3 (ipykernel)",
   "language": "python",
   "name": "python3"
  },
  "language_info": {
   "codemirror_mode": {
    "name": "ipython",
    "version": 3
   },
   "file_extension": ".py",
   "mimetype": "text/x-python",
   "name": "python",
   "nbconvert_exporter": "python",
   "pygments_lexer": "ipython3",
   "version": "3.12.4"
  }
 },
 "nbformat": 4,
 "nbformat_minor": 5
}
