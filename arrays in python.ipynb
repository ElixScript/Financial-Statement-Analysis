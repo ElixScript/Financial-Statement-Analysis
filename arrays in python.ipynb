{
 "cells": [
  {
   "cell_type": "markdown",
   "id": "f0b712a6-e631-4278-af59-dbd0dc2d9369",
   "metadata": {},
   "source": [
    "# arrays in python"
   ]
  },
  {
   "cell_type": "markdown",
   "id": "00c2bd02-6590-4403-8e99-e27dcfe8c18b",
   "metadata": {},
   "source": [
    "Dalam Python, struktur data yang biasa digunakan untuk mewakili array adalah daftar (list). Daftar adalah kumpulan terurut dari elemen-elemen yang dapat berupa berbagai tipe data. Berikut adalah beberapa fitur dan contoh penggunaan daftar dalam Python:\r\n",
    "\r\n",
    "### Membuat Daftar\r\n",
    "\r\n",
    "Untuk membuat daftar, Anda bisa menggunakan tanda kurung siku `[]` dan memisahkan elemen-elemen dengan koma.\r\n",
    "\r\n",
    "```python\r\n",
    "# Daftar kosong\r\n",
    "daftar_kosong = []\r\n",
    "\r\n",
    "# Daftar dengan elemen\r\n",
    "daftar_angka = [1, 2, 3, 4, 5]\r\n",
    "daftar_buah = ['apel', 'jeruk', 'pisang']\r\n",
    "daftar_campuran = [1, 'dua', 3.0, True]\r\n",
    "```\r\n",
    "\r\n",
    "### Mengakses Elemen\r\n",
    "\r\n",
    "Anda bisa mengakses elemen dalam daftar menggunakan indeks. Indeks dimulai dari 0.\r\n",
    "\r\n",
    "```python\r\n",
    "daftar = [10, 20, 30, 40, 50]\r\n",
    "\r\n",
    "# Mengakses elemen pertama\r\n",
    "print(daftar[0])  # Output: 10\r\n",
    "\r\n",
    "# Mengakses elemen terakhir\r\n",
    "print(daftar[-1])  # Output: 50\r\n",
    "\r\n",
    "# Mengakses elemen kedua hingga keempat\r\n",
    "print(daftar[1:4])  # Output: [20, 30, 40]\r\n",
    "```\r\n",
    "\r\n",
    "### Mengubah Elemen\r\n",
    "\r\n",
    "Anda bisa mengubah nilai elemen dalam daftar dengan menetapkan nilai baru pada indeks tertentu.\r\n",
    "\r\n",
    "```python\r\n",
    "daftar = [1, 2, 3, 4, 5]\r\n",
    "daftar[2] = 10\r\n",
    "print(daftar)  # Output: [1, 2, 10, 4, 5]\r\n",
    "```\r\n",
    "\r\n",
    "### Menambahkan dan Menghapus Elemen\r\n",
    "\r\n",
    "Anda bisa menambahkan elemen ke dalam daftar menggunakan metode `append()` dan `extend()`, serta menghapus elemen menggunakan metode `remove()` dan `pop()`.\r\n",
    "\r\n",
    "```python\r\n",
    "daftar = [1, 2, 3]\r\n",
    "\r\n",
    "# Menambahkan elemen ke akhir daftar\r\n",
    "daftar.append(4)\r\n",
    "print(daftar)  # Output: [1, 2, 3, 4]\r\n",
    "\r\n",
    "# Menambahkan beberapa elemen\r\n",
    "daftar.extend([5, 6])\r\n",
    "print(daftar)  # Output: [1, 2, 3, 4, 5, 6]\r\n",
    "\r\n",
    "# Menghapus elemen pertama yang ditemukan\r\n",
    "daftar.remove(3)\r\n",
    "print(daftar)  # Output: [1, 2, 4, 5, 6]\r\n",
    "\r\n",
    "# Menghapus elemen berdasarkan indeks\r\n",
    "elemen_terakhir = daftar.pop()\r\n",
    "print(elemen_terakhir)  # Output: 6\r\n",
    "print(daftar)  # Output: [1, 2, 4, 5]\r\n",
    "```\r\n",
    "\r\n",
    "### Iterasi melalui Daftar\r\n",
    "\r\n",
    "Anda bisa mengiterasi elemen-elemen dalam daftar menggunakan perulangan `for`.\r\n",
    "\r\n",
    "```python\r\n",
    "daftar = ['apel', 'jeruk', 'pisang']\r\n",
    "\r\n",
    "for buah in daftar:\r\n",
    "    print(buah)\r\n",
    "# Output:\r\n",
    "# apel\r\n",
    "# jeruk\r\n",
    "# pisang\r\n",
    "```\r\n",
    "\r\n",
    "### Contoh Penggunaan Lainnya\r\n",
    "\r\n",
    "Daftar dalam Python juga mendukung berbagai metode lain seperti `sort()` untuk mengurutkan, `reverse()` untuk membalik urutan, dan `index()` untuk mencari indeks suatu elemen.\r\n",
    "\r\n",
    "```python\r\n",
    "daftar = [3, 1, 4, 2]\r\n",
    "\r\n",
    "# Mengurutkan daftar\r\n",
    "daftar.sort()\r\n",
    "print(daftar)  # Output: [1, 2, 3, 4]\r\n",
    "\r\n",
    "# Membalik urutan daftar\r\n",
    "daftar.reverse()\r\n",
    "print(daftar)  # Output: [4, 3, 2, 1]\r\n",
    "\r\n",
    "# Mencari indeks elemen\r\n",
    "indeks = daftar.index(3)\r\n",
    "print(indeks)  # Output: 1\r\n",
    "```\r\n",
    "\r\n",
    "Daftar adalah struktur data yang sangat fleksibel dan kuat dalam Python, sering digunakan untuk berbagai keperluan dalam pemrograman sehari-hari."
   ]
  },
  {
   "cell_type": "code",
   "execution_count": 3,
   "id": "6f6dc852-634a-4d91-85d8-b0de3ab743f2",
   "metadata": {},
   "outputs": [
    {
     "data": {
      "text/plain": [
       "[1, 2, 3, 4, 5]"
      ]
     },
     "execution_count": 3,
     "metadata": {},
     "output_type": "execute_result"
    }
   ],
   "source": [
    "l = [1,2,3,4,5]\n",
    "l"
   ]
  },
  {
   "cell_type": "code",
   "execution_count": 21,
   "id": "677db495-ff6b-4e6a-bc6a-47f324389dbb",
   "metadata": {},
   "outputs": [],
   "source": [
    "import numpy as np\n",
    "k = np.array(l)"
   ]
  },
  {
   "cell_type": "code",
   "execution_count": 13,
   "id": "3a256c50-8932-4ec8-aed6-6704b85d64a6",
   "metadata": {},
   "outputs": [],
   "source": [
    "a= l.pop()"
   ]
  },
  {
   "cell_type": "code",
   "execution_count": 15,
   "id": "51ed3e94-4ae6-4283-8205-96714d0e1a61",
   "metadata": {},
   "outputs": [
    {
     "data": {
      "text/plain": [
       "5"
      ]
     },
     "execution_count": 15,
     "metadata": {},
     "output_type": "execute_result"
    }
   ],
   "source": [
    "a"
   ]
  },
  {
   "cell_type": "code",
   "execution_count": 23,
   "id": "eeabd921-237a-41b4-8ddc-c9b9d22bf7fa",
   "metadata": {},
   "outputs": [
    {
     "data": {
      "text/plain": [
       "2.5"
      ]
     },
     "execution_count": 23,
     "metadata": {},
     "output_type": "execute_result"
    }
   ],
   "source": [
    "k.mean()"
   ]
  },
  {
   "cell_type": "code",
   "execution_count": 25,
   "id": "89ac79ac-1e97-48dc-b6f4-4feeca30bb86",
   "metadata": {},
   "outputs": [
    {
     "data": {
      "text/plain": [
       "array([2])"
      ]
     },
     "execution_count": 25,
     "metadata": {},
     "output_type": "execute_result"
    }
   ],
   "source": [
    "k[1:2]"
   ]
  },
  {
   "cell_type": "code",
   "execution_count": 27,
   "id": "3f87fa4e-26e4-42c1-9a44-a82c600039d6",
   "metadata": {},
   "outputs": [],
   "source": [
    "b = k[1:2]"
   ]
  },
  {
   "cell_type": "code",
   "execution_count": 31,
   "id": "7acec8a5-7741-4bf2-b3c9-3ff2360e0f98",
   "metadata": {},
   "outputs": [
    {
     "data": {
      "text/plain": [
       "2"
      ]
     },
     "execution_count": 31,
     "metadata": {},
     "output_type": "execute_result"
    }
   ],
   "source": [
    "b[0]"
   ]
  },
  {
   "cell_type": "code",
   "execution_count": 33,
   "id": "6619aa57-212e-46e0-8384-1b222832f90c",
   "metadata": {},
   "outputs": [],
   "source": [
    "c = b.copy()"
   ]
  },
  {
   "cell_type": "code",
   "execution_count": 35,
   "id": "074ccd10-5eb5-4d55-8645-0904708668bb",
   "metadata": {},
   "outputs": [
    {
     "data": {
      "text/plain": [
       "array([2])"
      ]
     },
     "execution_count": 35,
     "metadata": {},
     "output_type": "execute_result"
    }
   ],
   "source": [
    "c"
   ]
  },
  {
   "cell_type": "markdown",
   "id": "56bddea3-48b7-49f0-af92-2cc2ae32f56e",
   "metadata": {},
   "source": [
    "---"
   ]
  },
  {
   "cell_type": "markdown",
   "id": "3099bb0d-0840-4337-ac0f-7ad0f69646de",
   "metadata": {},
   "source": [
    "Dalam Python, daftar (list) dan array adalah dua struktur data yang berbeda meskipun mereka memiliki beberapa kesamaan. Berikut adalah beberapa perbedaan utama antara keduanya:\r\n",
    "\r\n",
    "### Daftar (List)\r\n",
    "1. **Tipe Data:**\r\n",
    "   - Daftar bisa berisi elemen dari berbagai tipe data (misalnya, integer, float, string, objek).\r\n",
    "   - Contoh: `daftar = [1, \"dua\", 3.0, True]`.\r\n",
    "\r\n",
    "2. **Fleksibilitas:**\r\n",
    "   - Daftar sangat fleksibel dan mudah digunakan, dengan berbagai metode bawaan untuk manipulasi data (misalnya, `append()`, `extend()`, `insert()`, `remove()`, `pop()`, `sort()`, `reverse()`).\r\n",
    "\r\n",
    "3. **Kinerja:**\r\n",
    "   - Daftar tidak dioptimalkan untuk operasi numerik atau pemrosesan data yang intensif.\r\n",
    "\r\n",
    "4. **Library:**\r\n",
    "   - Daftar adalah bagian dari pustaka standar Python dan tidak memerlukan impor tambahan.\r\n",
    "\r\n",
    "5. **Deklarasi:**\r\n",
    "   - Contoh pembuatan daftar: `daftar = [1, 2, 3, 4, 5]`.\r\n",
    "\r\n",
    "### Array\r\n",
    "1. **Tipe Data:**\r\n",
    "   - Array biasanya berisi elemen dari tipe data yang sama. Misalnya, array integer atau array float.\r\n",
    "   - Ini memastikan konsistensi tipe data dalam array.\r\n",
    "\r\n",
    "2. **Kinerja:**\r\n",
    "   - Array lebih efisien untuk operasi numerik dan pemrosesan data yang intensif dibandingkan dengan daftar. Mereka dioptimalkan untuk manipulasi data berbasis tipe data yang konsisten.\r\n",
    "\r\n",
    "3. **Library:**\r\n",
    "   - Untuk menggunakan array di Python, Anda perlu mengimpor modul `array` atau menggunakan pustaka eksternal seperti `NumPy` untuk fungsionalitas yang lebih canggih.\r\n",
    "\r\n",
    "4. **Deklarasi:**\r\n",
    "   - Menggunakan modul `array`:\r\n",
    "     ```python\r\n",
    "     import array\r\n",
    "\r\n",
    "     array_angka = array.array('i', [1, 2, 3, 4, 5])\r\n",
    "     ```\r\n",
    "   - Menggunakan `NumPy`:\r\n",
    "     ```python\r\n",
    "     import numpy as np\r\n",
    "\r\n",
    "     numpy_array = np.array([1, 2, 3, 4, 5])\r\n",
    "     ```\r\n",
    "\r\n",
    "### Contoh Penggunaan dan Perbedaan\r\n",
    "\r\n",
    "#### Daftar\r\n",
    "```python\r\n",
    "# Membuat daftar dengan berbagai tipe data\r\n",
    "daftar = [1, \"dua\", 3.0, True]\r\n",
    "print(daftar)  # Output: [1, 'dua', 3.0, True]\r\n",
    "\r\n",
    "# Menambahkan elemen ke dalam daftar\r\n",
    "daftar.append(\"elemen baru\")\r\n",
    "print(daftar)  # Output: [1, 'dua', 3.0, True, 'elemen baru']\r\n",
    "```\r\n",
    "\r\n",
    "#### Array (Menggunakan Modul `array`)\r\n",
    "```python\r\n",
    "import array\r\n",
    "\r\n",
    "# Membuat array dengan tipe data integer\r\n",
    "array_angka = array.array('i', [1, 2, 3, 4, 5])\r\n",
    "print(array_angka)  # Output: array('i', [1, 2, 3, 4, 5])\r\n",
    "\r\n",
    "# Menambahkan elemen ke dalam array\r\n",
    "array_angka.append(6)\r\n",
    "print(array_angka)  # Output: array('i', [1, 2, 3, 4, 5, 6])\r\n",
    "```\r\n",
    "\r\n",
    "#### Array (Menggunakan `NumPy`)\r\n",
    "```python\r\n",
    "import numpy as np\r\n",
    "\r\n",
    "# Membuat array NumPy\r\n",
    "numpy_array = np.array([1, 2, 3, 4, 5])\r\n",
    "print(numpy_array)  # Output: [1 2 3 4 5]\r\n",
    "\r\n",
    "# Operasi aritmatika pada array NumPy\r\n",
    "numpy_array = numpy_array * 2\r\n",
    "print(numpy_array)  # Output: [ 2  4  6  8 10]\r\n",
    "```\r\n",
    "\r\n",
    "### Kesimpulan\r\n",
    "- **Daftar (List)** lebih fleksibel dan cocok untuk penggunaan umum di mana elemen-elemen bisa beragam tipe data.\r\n",
    "- **Array** lebih efisien untuk operasi numerik dan pemrosesan data yang intensif, terutama ketika menggunakan pustaka seperti `NumPy` yang dirancang untuk komputasi ilmiah dan analisis data.\r\n",
    "\r\n",
    "Pemilihan antara daftar dan array tergantung pada kebutuhan spesifik Anda terkait dengan jenis data dan operasi yang akan dilakukan."
   ]
  },
  {
   "cell_type": "code",
   "execution_count": null,
   "id": "68487051-98a8-404a-8dbf-2e4b35ac4dc6",
   "metadata": {},
   "outputs": [],
   "source": []
  }
 ],
 "metadata": {
  "kernelspec": {
   "display_name": "Python 3 (ipykernel)",
   "language": "python",
   "name": "python3"
  },
  "language_info": {
   "codemirror_mode": {
    "name": "ipython",
    "version": 3
   },
   "file_extension": ".py",
   "mimetype": "text/x-python",
   "name": "python",
   "nbconvert_exporter": "python",
   "pygments_lexer": "ipython3",
   "version": "3.12.4"
  }
 },
 "nbformat": 4,
 "nbformat_minor": 5
}
