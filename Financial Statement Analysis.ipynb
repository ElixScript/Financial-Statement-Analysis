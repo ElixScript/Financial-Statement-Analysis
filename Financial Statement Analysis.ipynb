{
 "cells": [
  {
   "cell_type": "markdown",
   "id": "bfcea3dc-c8b5-444d-976c-d3e1ad064f42",
   "metadata": {},
   "source": [
    "# financial statement analysis"
   ]
  },
  {
   "cell_type": "markdown",
   "id": "d15b2ed2-2400-4e26-9d18-fe6ef83b3c9d",
   "metadata": {},
   "source": [
    "**\r\n",
    "\r\n",
    "\r\n",
    "**Scenario:** You are a Data Scientist working for a consulting firm. One of your colleagues from the Auditing department has asked for your help in assessing the financial statement of organization X.\r\n",
    "\r\n",
    "You have been provided with two lists of data: monthly revenue and monthly expenses for the financial year in question. Your task is to calculate the following financial metrics:\r\n",
    "\r\n",
    "- profit for each month\r\n",
    "- profit after tax for each month (with a tax rate of 30%)\r\n",
    "- profit margin for each month, which is the profit after tax divided by revenue\r\n",
    "- good months, where the profit after tax was greater than the average for the year\r\n",
    "- bad months, where the profit after tax was less than the average for the year\r\n",
    "- the best month, where the profit after tax was the highest for the year\r\n",
    "- the worst month, where the profit after tax was the lowest for the year\r\n",
    "\r\n",
    "All results need to be presented as lists.\r\n",
    "\r\n",
    "Results for dollar values need to be calculated with $0.01 precision but presented in units of $1,000 (e.g., 1k) with no decimal points.\r\n",
    "\r\n",
    "Results for the profit margin ratio need to be presented in percentage units with no decimal points.\r\n",
    "\r\n",
    "Note: Your colleague has warned that it is acceptable for the tax for any given month to be negative (in accounting terms, negative tax translates into a deferred tax asset).\r\n",
    "\r\n",
    "**HINT #1**\r\n",
    "\r\n",
    "**NEW FUNCTIONSpart of the document you need rewritten?"
   ]
  },
  {
   "cell_type": "code",
   "execution_count": 5,
   "id": "34ea843b-f162-4890-b33b-a0fc8e424731",
   "metadata": {},
   "outputs": [],
   "source": [
    "# Data \n",
    "revenue = [14574.49, 7606.46, 8611.41, 9175.41, 8058.65, 8105.44, 11496.28, 9766.09, 10305.32, 14379.96, 10713.97, 15433.50]\n",
    "expenses = [12051.82, 5695.07, 12319.20, 12089.72, 8658.57, 840.20, 3285.73, 5821.12, 6976.93, 16618.61, 10054.37, 3803.96]"
   ]
  },
  {
   "cell_type": "markdown",
   "id": "81812b46-de7c-4576-9418-79d8083573b4",
   "metadata": {},
   "source": [
    "## calculating profit"
   ]
  },
  {
   "cell_type": "code",
   "execution_count": 9,
   "id": "1826a287-d722-401c-b865-819a9e23a06b",
   "metadata": {},
   "outputs": [
    {
     "data": {
      "text/plain": [
       "[2522.67,\n",
       " 1911.3900000000003,\n",
       " -3707.790000000001,\n",
       " -2914.3099999999995,\n",
       " -599.9200000000001,\n",
       " 7265.24,\n",
       " 8210.550000000001,\n",
       " 3944.9700000000003,\n",
       " 3328.3899999999994,\n",
       " -2238.6500000000015,\n",
       " 659.5999999999985,\n",
       " 11629.54]"
      ]
     },
     "execution_count": 9,
     "metadata": {},
     "output_type": "execute_result"
    }
   ],
   "source": [
    "profit = list([])\n",
    "\n",
    "for i in range (0,len(revenue)) :\n",
    "    profit.append(revenue[i]-expenses[i])\n",
    "profit"
   ]
  },
  {
   "cell_type": "markdown",
   "id": "55c96029-c136-4480-8e9a-d81bc202bfd3",
   "metadata": {},
   "source": [
    "## tax"
   ]
  },
  {
   "cell_type": "code",
   "execution_count": 12,
   "id": "261c1ea5-0c21-44ee-860f-551e54f506eb",
   "metadata": {},
   "outputs": [
    {
     "data": {
      "text/plain": [
       "[756.8,\n",
       " 573.42,\n",
       " -1112.34,\n",
       " -874.29,\n",
       " -179.98,\n",
       " 2179.57,\n",
       " 2463.17,\n",
       " 1183.49,\n",
       " 998.52,\n",
       " -671.6,\n",
       " 197.88,\n",
       " 3488.86]"
      ]
     },
     "execution_count": 12,
     "metadata": {},
     "output_type": "execute_result"
    }
   ],
   "source": [
    "tax = [round (i*0.3,2) for i in profit]\n",
    "tax"
   ]
  },
  {
   "cell_type": "markdown",
   "id": "ad332419-7d7b-4dcb-9f71-6506ad4cd065",
   "metadata": {},
   "source": [
    "## profit after taxes"
   ]
  },
  {
   "cell_type": "code",
   "execution_count": 18,
   "id": "e17dfe74-06eb-4bcc-b79b-77383b9730b1",
   "metadata": {},
   "outputs": [
    {
     "data": {
      "text/plain": [
       "[1765.8700000000001,\n",
       " 1337.9700000000003,\n",
       " -2595.4500000000007,\n",
       " -2040.0199999999995,\n",
       " -419.94000000000005,\n",
       " 5085.67,\n",
       " 5747.380000000001,\n",
       " 2761.4800000000005,\n",
       " 2329.8699999999994,\n",
       " -1567.0500000000015,\n",
       " 461.71999999999855,\n",
       " 8140.68]"
      ]
     },
     "execution_count": 18,
     "metadata": {},
     "output_type": "execute_result"
    }
   ],
   "source": [
    "profit_after_tax = list([])\n",
    "\n",
    "for i in range(0,len(profit)) :\n",
    "    profit_after_tax.append(profit[i]-tax[i])\n",
    "profit_after_tax"
   ]
  },
  {
   "cell_type": "markdown",
   "id": "588d3321-b0c7-409f-ae1d-d24eb410e313",
   "metadata": {},
   "source": [
    "## profit margin after tax"
   ]
  },
  {
   "cell_type": "code",
   "execution_count": 28,
   "id": "9a705af7-bf4d-459b-a793-06a522f0c62d",
   "metadata": {},
   "outputs": [
    {
     "data": {
      "text/plain": [
       "[12.12,\n",
       " 17.59,\n",
       " -30.14,\n",
       " -22.23,\n",
       " -5.21,\n",
       " 62.74,\n",
       " 49.99,\n",
       " 28.28,\n",
       " 22.61,\n",
       " -10.9,\n",
       " 4.31,\n",
       " 52.75]"
      ]
     },
     "execution_count": 28,
     "metadata": {},
     "output_type": "execute_result"
    }
   ],
   "source": [
    "profit_margin = list([])\n",
    "\n",
    "for i in range(0,len(profit)) :\n",
    "    profit_margin.append(profit_after_tax[i]/revenue[i])\n",
    "\n",
    "profit_margin = [round((i*100),2) for i in profit_margin]\n",
    "profit_margin"
   ]
  },
  {
   "cell_type": "markdown",
   "id": "4b4af50a-1aeb-4738-9cf9-3a6d39b62cc0",
   "metadata": {},
   "source": [
    "## profit after tax mean"
   ]
  },
  {
   "cell_type": "code",
   "execution_count": 31,
   "id": "d0df9e98-6929-46c5-a87e-8313f11f9b3a",
   "metadata": {},
   "outputs": [
    {
     "data": {
      "text/plain": [
       "1750.6816666666664"
      ]
     },
     "execution_count": 31,
     "metadata": {},
     "output_type": "execute_result"
    }
   ],
   "source": [
    "mean_pat = sum(profit_after_tax)/len(profit_after_tax)\n",
    "mean_pat"
   ]
  },
  {
   "cell_type": "markdown",
   "id": "4895e2e3-69b0-4f7e-a326-30fbd13b6da7",
   "metadata": {},
   "source": [
    "## good months"
   ]
  },
  {
   "cell_type": "code",
   "execution_count": 36,
   "id": "35394a57-8c61-4af7-a3b0-273b49a5a9ec",
   "metadata": {},
   "outputs": [
    {
     "data": {
      "text/plain": [
       "[True, False, False, False, False, True, True, True, True, False, False, True]"
      ]
     },
     "execution_count": 36,
     "metadata": {},
     "output_type": "execute_result"
    }
   ],
   "source": [
    "good_months = list([])\n",
    "\n",
    "for i in range(0,len(profit)) :\n",
    "    good_months.append(profit_after_tax[i]>mean_pat)\n",
    "good_months"
   ]
  },
  {
   "cell_type": "markdown",
   "id": "c064edc4-bb9b-4fd3-bc30-a903dcd949af",
   "metadata": {},
   "source": [
    "## bad months"
   ]
  },
  {
   "cell_type": "code",
   "execution_count": 44,
   "id": "04824eeb-1ce8-4484-ab2e-af0cce032c3c",
   "metadata": {},
   "outputs": [
    {
     "data": {
      "text/plain": [
       "[False, True, True, True, True, False, False, False, False, True, True, False]"
      ]
     },
     "execution_count": 44,
     "metadata": {},
     "output_type": "execute_result"
    }
   ],
   "source": [
    "bad_months = list([])\n",
    "\n",
    "for i in range(0,len(profit)) :\n",
    "    bad_months.append(profit_after_tax[i]<mean_pat)\n",
    "bad_months"
   ]
  },
  {
   "cell_type": "markdown",
   "id": "b6fb1652-4a01-412a-a2d5-05eb616fe07f",
   "metadata": {},
   "source": [
    "## best months"
   ]
  },
  {
   "cell_type": "code",
   "execution_count": 51,
   "id": "7443bf60-4e4b-46d5-b37c-6388be66fc04",
   "metadata": {},
   "outputs": [
    {
     "data": {
      "text/plain": [
       "[False,\n",
       " False,\n",
       " False,\n",
       " False,\n",
       " False,\n",
       " False,\n",
       " False,\n",
       " False,\n",
       " False,\n",
       " False,\n",
       " False,\n",
       " True]"
      ]
     },
     "execution_count": 51,
     "metadata": {},
     "output_type": "execute_result"
    }
   ],
   "source": [
    "best_month = list([])\n",
    "\n",
    "for i in range(0,len(profit_after_tax)) :\n",
    "    best_month.append(profit_after_tax[i] == max(profit_after_tax))\n",
    "best_month"
   ]
  },
  {
   "cell_type": "markdown",
   "id": "4dc65316-fba3-4174-a529-9b4f981f4444",
   "metadata": {},
   "source": [
    "## worst months"
   ]
  },
  {
   "cell_type": "code",
   "execution_count": 54,
   "id": "9c92e527-6be2-43a6-87c2-034b2ac160c9",
   "metadata": {},
   "outputs": [
    {
     "data": {
      "text/plain": [
       "[False,\n",
       " False,\n",
       " True,\n",
       " False,\n",
       " False,\n",
       " False,\n",
       " False,\n",
       " False,\n",
       " False,\n",
       " False,\n",
       " False,\n",
       " False]"
      ]
     },
     "execution_count": 54,
     "metadata": {},
     "output_type": "execute_result"
    }
   ],
   "source": [
    "worst_month = list([])\n",
    "\n",
    "for i in range(0,len(profit_after_tax)) :\n",
    "    worst_month.append(profit_after_tax[i] == min(profit_after_tax))\n",
    "worst_month"
   ]
  },
  {
   "cell_type": "markdown",
   "id": "78a2dcda-0a83-4fa8-ad42-088235564638",
   "metadata": {},
   "source": [
    "## result"
   ]
  },
  {
   "cell_type": "code",
   "execution_count": 63,
   "id": "b5c8a661-5ad6-42f6-a761-5ccc264ded0f",
   "metadata": {},
   "outputs": [],
   "source": [
    "\n",
    "revenue_1000 = [round(i/1000, 2) for i in revenue]\n",
    "expenses_1000 = [round(i/1000, 2) for i in expenses]\n",
    "profit_1000 = [round(i/1000, 2) for i in profit]\n",
    "profit_after_tax_1000 = [round(i/1000, 2) for i in profit_after_tax]\n",
    "\n",
    "revenue_1000 = [int(i) for i in revenue_1000]\n",
    "expenses_1000 = [int(i) for i in expenses_1000]\n",
    "profit_1000 = [int(i) for i in profit_1000]\n",
    "profit_after_tax_1000 = [int(i) for i in profit_after_tax_1000]"
   ]
  },
  {
   "cell_type": "code",
   "execution_count": 59,
   "id": "e667bf66-1c81-474f-a5dc-66173579e0a7",
   "metadata": {},
   "outputs": [
    {
     "name": "stdout",
     "output_type": "stream",
     "text": [
      "Revenue :\n",
      "[14, 7, 8, 9, 8, 8, 11, 9, 10, 14, 10, 15]\n",
      "Expenses :\n",
      "[12, 5, 12, 12, 8, 0, 3, 5, 6, 16, 10, 3]\n",
      "Profit :\n",
      "[2, 1, -3, -2, 0, 7, 8, 3, 3, -2, 0, 11]\n",
      "Profit after tax :\n",
      "[1, 1, -2, -2, 0, 5, 5, 2, 2, -1, 0, 8]\n",
      "Profit margin :\n",
      "[12.12, 17.59, -30.14, -22.23, -5.21, 62.74, 49.99, 28.28, 22.61, -10.9, 4.31, 52.75]\n",
      "Good months :\n",
      "[True, False, False, False, False, True, True, True, True, False, False, True]\n",
      "Bad months :\n",
      "[False, True, True, True, True, False, False, False, False, True, True, False]\n",
      "Best month :\n",
      "[False, False, False, False, False, False, False, False, False, False, False, True]\n",
      "Worst month :\n",
      "[False, False, True, False, False, False, False, False, False, False, False, False]\n"
     ]
    }
   ],
   "source": [
    "#Print Results\n",
    "print (\"Revenue :\") \n",
    "print (revenue_1000)\n",
    "print (\"Expenses :\") \n",
    "print (expenses_1000)\n",
    "print (\"Profit :\")\n",
    "print(profit_1000)\n",
    "print (\"Profit after tax :\")\n",
    "print (profit_after_tax_1000)\n",
    "print (\"Profit margin :\")\n",
    "print (profit_margin)\n",
    "print (\"Good months :\")\n",
    "print (good_months)\n",
    "print (\"Bad months :\")\n",
    "print (bad_months)\n",
    "print (\"Best month :\")\n",
    "print (best_month)\n",
    "print (\"Worst month :\")\n",
    "print (worst_month)"
   ]
  },
  {
   "cell_type": "code",
   "execution_count": null,
   "id": "0f2d5527-bd0d-4e44-b1a2-b16a45ebfd75",
   "metadata": {},
   "outputs": [],
   "source": []
  }
 ],
 "metadata": {
  "kernelspec": {
   "display_name": "Python 3 (ipykernel)",
   "language": "python",
   "name": "python3"
  },
  "language_info": {
   "codemirror_mode": {
    "name": "ipython",
    "version": 3
   },
   "file_extension": ".py",
   "mimetype": "text/x-python",
   "name": "python",
   "nbconvert_exporter": "python",
   "pygments_lexer": "ipython3",
   "version": "3.12.4"
  }
 },
 "nbformat": 4,
 "nbformat_minor": 5
}
