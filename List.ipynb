{
 "cells": [
  {
   "cell_type": "markdown",
   "id": "4d2b04c7-19df-4e3b-88d2-a457fec57c47",
   "metadata": {},
   "source": [
    "# list"
   ]
  },
  {
   "cell_type": "markdown",
   "id": "de4a9de0-1389-4fbd-957e-be9781637ac9",
   "metadata": {},
   "source": [
    "List dalam Python adalah tipe data yang digunakan untuk menyimpan koleksi item yang terurut. Berikut adalah beberapa karakteristik dan fitur penting dari list dalam Python:\r\n",
    "\r\n",
    "1. **Deklarasi List**: List dideklarasikan dengan tanda kurung siku `[]`.\r\n",
    "   ```python\r\n",
    "   my_list = [1, 2, 3, 4, 5]\r\n",
    "   ```\r\n",
    "\r\n",
    "2. **Menyimpan Berbagai Jenis Data**: List dapat menyimpan berbagai jenis data dalam satu list yang sama, seperti integer, float, string, bahkan list lainnya.\r\n",
    "   ```python\r\n",
    "   mixed_list = [1, \"hello\", 3.14, [1, 2, 3]]\r\n",
    "   ```\r\n",
    "\r\n",
    "3. **Mengakses Elemen List**: Elemen list dapat diakses menggunakan indeks, yang dimulai dari 0.\r\n",
    "   ```python\r\n",
    "   print(my_list[0])  # Output: 1\r\n",
    "   ```\r\n",
    "\r\n",
    "4. **Mengubah Elemen List**: Elemen dalam list dapat diubah nilainya dengan mengakses indeksnya.\r\n",
    "   ```python\r\n",
    "   my_list[1] = 10\r\n",
    "   print(my_list)  # Output: [1, 10, 3, 4, 5]\r\n",
    "   ```\r\n",
    "\r\n",
    "5. **Menambahkan Elemen**: Elemen dapat ditambahkan ke dalam list menggunakan metode `append()` atau `insert()`.\r\n",
    "   ```python\r\n",
    "   my_list.append(6)\r\n",
    "   print(my_list)  # Output: [1, 10, 3, 4, 5, 6]\r\n",
    "   \r\n",
    "   my_list.insert(2, 99)\r\n",
    "   print(my_list)  # Output: [1, 10, 99, 3, 4, 5, 6]\r\n",
    "   ```\r\n",
    "\r\n",
    "6. **Menghapus Elemen**: Elemen dapat dihapus menggunakan metode `remove()`, `pop()`, atau `del`.\r\n",
    "   ```python\r\n",
    "   my_list.remove(10)\r\n",
    "   print(my_list)  # Output: [1, 99, 3, 4, 5, 6]\r\n",
    "   \r\n",
    "   my_list.pop(1)\r\n",
    "   print(my_list)  # Output: [1, 3, 4, 5, 6]\r\n",
    "   \r\n",
    "   del my_list[0]\r\n",
    "   print(my_list)  # Output: [3, 4, 5, 6]\r\n",
    "   ```\r\n",
    "\r\n",
    "7. **Memotong List (Slicing)**: List dapat dipotong untuk mengambil sub-list menggunakan slicing.\r\n",
    "   ```python\r\n",
    "   sub_list = my_list[1:3]\r\n",
    "   print(sub_list)  # Output: [4, 5]\r\n",
    "   ```\r\n",
    "\r\n",
    "8. **Iterasi dalam List**: List dapat diiterasi menggunakan loop `for`.\r\n",
    "   ```python\r\n",
    "   for item in my_list:\r\n",
    "       print(item)\r\n",
    "   ```\r\n",
    "\r\n",
    "9. **Fungsi dan Metode Lain**:\r\n",
    "   - `len()`: Mengembalikan panjang list.\r\n",
    "     ```python\r\n",
    "     print(len(my_list))  # Output: 4\r\n",
    "     ```\r\n",
    "   - `sort()`: Mengurutkan list secara in-place.\r\n",
    "     ```python\r\n",
    "     my_list.sort()\r\n",
    "     print(my_list)  # Output: [3, 4, 5, 6]\r\n",
    "     ```\r\n",
    "   - `reverse()`: Membalik urutan elemen dalam list secara in-place.\r\n",
    "     ```python\r\n",
    "     my_list.reverse()\r\n",
    "     print(my_list)  # Output: [6, 5, 4, 3]\r\n",
    "     ```\r\n",
    "\r\n",
    "List sangat fleksibel dan sering digunakan dalam berbagai operasi pemrograman karena kemampuannya untuk menyimpan dan memanipulasi koleksi data secara efisien."
   ]
  },
  {
   "cell_type": "code",
   "execution_count": 3,
   "id": "75f721c0-9e19-44d9-94f7-a1a979f37599",
   "metadata": {},
   "outputs": [],
   "source": [
    "mylist = [1,2,3]"
   ]
  },
  {
   "cell_type": "code",
   "execution_count": 5,
   "id": "c0a515fb-604d-4ee0-8758-22014df76593",
   "metadata": {},
   "outputs": [
    {
     "data": {
      "text/plain": [
       "[1, 2, 3]"
      ]
     },
     "execution_count": 5,
     "metadata": {},
     "output_type": "execute_result"
    }
   ],
   "source": [
    "mylist"
   ]
  },
  {
   "cell_type": "code",
   "execution_count": 7,
   "id": "9c254c39-2f93-46e0-9afb-a82528d6d214",
   "metadata": {},
   "outputs": [
    {
     "data": {
      "text/plain": [
       "list"
      ]
     },
     "execution_count": 7,
     "metadata": {},
     "output_type": "execute_result"
    }
   ],
   "source": [
    "type(mylist)"
   ]
  },
  {
   "cell_type": "code",
   "execution_count": 9,
   "id": "45e16e6d-941e-4808-8c2e-e86412db41ea",
   "metadata": {},
   "outputs": [],
   "source": [
    "mysecondlist = ['saya bagus',1,2,3.56,mylist]"
   ]
  },
  {
   "cell_type": "code",
   "execution_count": 11,
   "id": "5586d6a8-7555-4ac3-b75c-a7074014d724",
   "metadata": {},
   "outputs": [
    {
     "data": {
      "text/plain": [
       "['saya bagus', 1, 2, 3.56, [1, 2, 3]]"
      ]
     },
     "execution_count": 11,
     "metadata": {},
     "output_type": "execute_result"
    }
   ],
   "source": [
    "mysecondlist"
   ]
  },
  {
   "cell_type": "code",
   "execution_count": 13,
   "id": "50e691af-8043-4aed-9cb8-35b9b1bb645d",
   "metadata": {},
   "outputs": [
    {
     "data": {
      "text/plain": [
       "range(0, 15)"
      ]
     },
     "execution_count": 13,
     "metadata": {},
     "output_type": "execute_result"
    }
   ],
   "source": [
    "range(15)"
   ]
  },
  {
   "cell_type": "code",
   "execution_count": 15,
   "id": "fe4cc6f6-4d6a-49ac-a28a-059f7d40ed49",
   "metadata": {},
   "outputs": [
    {
     "data": {
      "text/plain": [
       "[0, 1, 2, 3, 4, 5, 6, 7, 8, 9, 10, 11, 12, 13, 14]"
      ]
     },
     "execution_count": 15,
     "metadata": {},
     "output_type": "execute_result"
    }
   ],
   "source": [
    "list(range(0,15))"
   ]
  },
  {
   "cell_type": "code",
   "execution_count": 19,
   "id": "65e57bbf-9ef0-41e3-833d-de7b1f6e870b",
   "metadata": {},
   "outputs": [
    {
     "data": {
      "text/plain": [
       "[1, 2, 3, 4, 5, 6, 7, 8, 9, 10, 11, 12, 13, 14, 15]"
      ]
     },
     "execution_count": 19,
     "metadata": {},
     "output_type": "execute_result"
    }
   ],
   "source": [
    "list(range(1,16))"
   ]
  },
  {
   "cell_type": "code",
   "execution_count": 21,
   "id": "9f96ce6f-01ce-4d7d-bebe-51b4c44308f0",
   "metadata": {},
   "outputs": [
    {
     "data": {
      "text/plain": [
       "[1, 4, 7, 10, 13, 16, 19, 22]"
      ]
     },
     "execution_count": 21,
     "metadata": {},
     "output_type": "execute_result"
    }
   ],
   "source": [
    "list(range(1,25,3))"
   ]
  },
  {
   "cell_type": "markdown",
   "id": "2f92102f-36ef-47a2-822d-f52e0ba4ee06",
   "metadata": {},
   "source": [
    "---"
   ]
  },
  {
   "cell_type": "code",
   "execution_count": 24,
   "id": "6b732e08-092a-4f30-9538-c6077f042d36",
   "metadata": {},
   "outputs": [
    {
     "data": {
      "text/plain": [
       "[1, 2, 3, 4, 5]"
      ]
     },
     "execution_count": 24,
     "metadata": {},
     "output_type": "execute_result"
    }
   ],
   "source": [
    "w = [1,2,3,4,5]\n",
    "w"
   ]
  },
  {
   "cell_type": "code",
   "execution_count": 26,
   "id": "f5391e14-8e08-4f1b-9576-cef0719e4062",
   "metadata": {},
   "outputs": [
    {
     "data": {
      "text/plain": [
       "3"
      ]
     },
     "execution_count": 26,
     "metadata": {},
     "output_type": "execute_result"
    }
   ],
   "source": [
    "w[2]"
   ]
  },
  {
   "cell_type": "code",
   "execution_count": 28,
   "id": "07db257b-cc07-4015-9c2d-df804b709458",
   "metadata": {},
   "outputs": [
    {
     "data": {
      "text/plain": [
       "5"
      ]
     },
     "execution_count": 28,
     "metadata": {},
     "output_type": "execute_result"
    }
   ],
   "source": [
    "len(w)"
   ]
  },
  {
   "cell_type": "code",
   "execution_count": 30,
   "id": "35166180-6127-4932-9bce-7a4c04bfd46c",
   "metadata": {},
   "outputs": [
    {
     "data": {
      "text/plain": [
       "4"
      ]
     },
     "execution_count": 30,
     "metadata": {},
     "output_type": "execute_result"
    }
   ],
   "source": [
    "w[-2]"
   ]
  },
  {
   "cell_type": "code",
   "execution_count": 32,
   "id": "32d38edb-923b-495f-b993-d5fcabb1f92c",
   "metadata": {},
   "outputs": [
    {
     "data": {
      "text/plain": [
       "[1, 2, 3, 65, 5]"
      ]
     },
     "execution_count": 32,
     "metadata": {},
     "output_type": "execute_result"
    }
   ],
   "source": [
    "w[-2]=65\n",
    "w"
   ]
  },
  {
   "cell_type": "markdown",
   "id": "392eac62-7eed-495a-9a0c-0c7254f9c256",
   "metadata": {},
   "source": [
    "## slicing"
   ]
  },
  {
   "cell_type": "markdown",
   "id": "2c85d4d4-f2e8-4485-ad49-05f6364cd79c",
   "metadata": {},
   "source": [
    "--- "
   ]
  },
  {
   "cell_type": "code",
   "execution_count": 58,
   "id": "4eac3034-5bb6-455d-aa72-0231925d5118",
   "metadata": {},
   "outputs": [
    {
     "data": {
      "text/plain": [
       "[1, 2, 3, 4, 5]"
      ]
     },
     "execution_count": 58,
     "metadata": {},
     "output_type": "execute_result"
    }
   ],
   "source": [
    "listslicing = [1,2,3,4,5,6,7,8,9,10]\n",
    "listslicing[-10:5]"
   ]
  },
  {
   "cell_type": "code",
   "execution_count": 46,
   "id": "54ab5228-2c81-4f21-aae2-397237899c31",
   "metadata": {},
   "outputs": [
    {
     "data": {
      "text/plain": [
       "[1, 2, 3, 4, 5, 6, 7, 8, 9, 10]"
      ]
     },
     "execution_count": 46,
     "metadata": {},
     "output_type": "execute_result"
    }
   ],
   "source": [
    "listslicing[:]"
   ]
  },
  {
   "cell_type": "code",
   "execution_count": 48,
   "id": "3e9a0526-d68c-454a-a11e-ed67efe6fbb2",
   "metadata": {},
   "outputs": [
    {
     "data": {
      "text/plain": [
       "[1, 2, 3, 4, 5, 6, 7]"
      ]
     },
     "execution_count": 48,
     "metadata": {},
     "output_type": "execute_result"
    }
   ],
   "source": [
    "listslicing[:7]"
   ]
  },
  {
   "cell_type": "code",
   "execution_count": 50,
   "id": "94e968d8-e2c2-45e5-b8ca-b6f6b9786b6a",
   "metadata": {},
   "outputs": [
    {
     "data": {
      "text/plain": [
       "[2, 4, 6]"
      ]
     },
     "execution_count": 50,
     "metadata": {},
     "output_type": "execute_result"
    }
   ],
   "source": [
    "listslicing[1:6:2]"
   ]
  },
  {
   "cell_type": "code",
   "execution_count": 56,
   "id": "fa819f45-27ee-43b7-ae4a-5600e1eac4d9",
   "metadata": {},
   "outputs": [
    {
     "data": {
      "text/plain": [
       "[7, 6, 5, 4]"
      ]
     },
     "execution_count": 56,
     "metadata": {},
     "output_type": "execute_result"
    }
   ],
   "source": [
    "listslicing[6:2:-1]"
   ]
  },
  {
   "cell_type": "code",
   "execution_count": null,
   "id": "d2d38b11-d4f7-4ebb-b936-805dec60e8ff",
   "metadata": {},
   "outputs": [],
   "source": []
  }
 ],
 "metadata": {
  "kernelspec": {
   "display_name": "Python 3 (ipykernel)",
   "language": "python",
   "name": "python3"
  },
  "language_info": {
   "codemirror_mode": {
    "name": "ipython",
    "version": 3
   },
   "file_extension": ".py",
   "mimetype": "text/x-python",
   "name": "python",
   "nbconvert_exporter": "python",
   "pygments_lexer": "ipython3",
   "version": "3.12.4"
  }
 },
 "nbformat": 4,
 "nbformat_minor": 5
}
