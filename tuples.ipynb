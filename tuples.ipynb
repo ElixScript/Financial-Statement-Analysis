{
 "cells": [
  {
   "cell_type": "markdown",
   "id": "99675681-ddb2-4fd5-8a16-61ee35be62c9",
   "metadata": {},
   "source": [
    "# tuples"
   ]
  },
  {
   "cell_type": "markdown",
   "id": "ebd7aee0-a4e2-4474-9144-ef18fc9c5a76",
   "metadata": {},
   "source": [
    "Tuple dalam Python adalah tipe data yang digunakan untuk menyimpan koleksi item yang terurut dan tidak dapat diubah (immutable). Berikut adalah beberapa karakteristik dan fitur penting dari tuple dalam Python:\r\n",
    "\r\n",
    "1. **Deklarasi Tuple**: Tuple dideklarasikan dengan tanda kurung biasa `()` dan elemen-elemen di dalamnya dipisahkan oleh koma.\r\n",
    "   ```python\r\n",
    "   my_tuple = (1, 2, 3, 4, 5)\r\n",
    "   ```\r\n",
    "\r\n",
    "2. **Menyimpan Berbagai Jenis Data**: Tuple dapat menyimpan berbagai jenis data dalam satu tuple yang sama, seperti integer, float, string, bahkan list atau tuple lainnya.\r\n",
    "   ```python\r\n",
    "   mixed_tuple = (1, \"hello\", 3.14, [1, 2, 3], (4, 5))\r\n",
    "   ```\r\n",
    "\r\n",
    "3. **Mengakses Elemen Tuple**: Elemen tuple dapat diakses menggunakan indeks, yang dimulai dari 0.\r\n",
    "   ```python\r\n",
    "   print(my_tuple[0])  # Output: 1\r\n",
    "   ```\r\n",
    "\r\n",
    "4. **Immutability**: Elemen dalam tuple tidak dapat diubah setelah tuple dibuat. Setiap upaya untuk mengubah elemen akan menyebabkan kesalahan.\r\n",
    "   ```python\r\n",
    "   my_tuple[1] = 10  # Ini akan menyebabkan TypeError\r\n",
    "   ```\r\n",
    "\r\n",
    "5. **Menambahkan Elemen**: Karena tuple adalah immutable, elemen tidak dapat ditambahkan ke dalam tuple setelah dibuat. Namun, Anda dapat membuat tuple baru dengan menggabungkan tuple yang sudah ada.\r\n",
    "   ```python\r\n",
    "   new_tuple = my_tuple + (6, 7)\r\n",
    "   print(new_tuple)  # Output: (1, 2, 3, 4, 5, 6, 7)\r\n",
    "   ```\r\n",
    "\r\n",
    "6. **Menghapus Elemen**: Elemen dalam tuple tidak dapat dihapus secara individual karena sifatnya yang immutable. Namun, Anda dapat menghapus seluruh tuple menggunakan `del`.\r\n",
    "   ```python\r\n",
    "   del my_tuple\r\n",
    "   ```\r\n",
    "\r\n",
    "7. **Memotong Tuple (Slicing)**: Tuple dapat dipotong untuk mengambil sub-tuple menggunakan slicing.\r\n",
    "   ```python\r\n",
    "   sub_tuple = my_tuple[1:3]\r\n",
    "   print(sub_tuple)  # Output: (2, 3)\r\n",
    "   ```\r\n",
    "\r\n",
    "8. **Iterasi dalam Tuple**: Tuple dapat diiterasi menggunakan loop `for`.\r\n",
    "   ```python\r\n",
    "   for item in my_tuple:\r\n",
    "       print(item)\r\n",
    "   ```\r\n",
    "\r\n",
    "9. **Fungsi dan Metode Lain**:\r\n",
    "   - `len()`: Mengembalikan panjang tuple.\r\n",
    "     ```python\r\n",
    "     print(len(my_tuple))  # Output: 5\r\n",
    "     ```\r\n",
    "   - `count()`: Menghitung jumlah kemunculan elemen tertentu dalam tuple.\r\n",
    "     ```python\r\n",
    "     print(my_tuple.count(2))  # Output: 1\r\n",
    "     ```\r\n",
    "   - `index()`: Mengembalikan indeks pertama dari elemen tertentu dalam tuple.\r\n",
    "     ```python\r\n",
    "     print(my_tuple.index(3))  # Output: 2\r\n",
    "     ```\r\n",
    "\r\n",
    "10. **Penggunaan Tuple**:\r\n",
    "    - **Return Multiple Values**: Tuple sering digunakan untuk mengembalikan beberapa nilai dari suatu fungsi.\r\n",
    "      ```python\r\n",
    "      def get_coordinates():\r\n",
    "          return (10, 20)\r\n",
    "\r\n",
    "      coords = get_coordinates()\r\n",
    "      print(coords)  # Output: (10, 20)\r\n",
    "      ```\r\n",
    "    - **Sebagai Keys dalam Dictionary**: Tuple dapat digunakan sebagai keys dalam dictionary karena sifatnya yang immutable.\r\n",
    "      ```python\r\n",
    "      my_dict = {(1, 2): \"value\"}\r\n",
    "      print(my_dict[(1, 2)])  # Output: value\r\n",
    "      ```\r\n",
    "\r\n",
    "Tuple sangat berguna ketika Anda ingin menyimpan data yang tidak boleh diubah dan ingin memastikan integritas data tetap terjaga sepanjang program berjalan."
   ]
  },
  {
   "cell_type": "code",
   "execution_count": 3,
   "id": "986dc650-092e-436c-9343-a45d4285b767",
   "metadata": {},
   "outputs": [
    {
     "data": {
      "text/plain": [
       "(1, 2, 3)"
      ]
     },
     "execution_count": 3,
     "metadata": {},
     "output_type": "execute_result"
    }
   ],
   "source": [
    "t1 = (1,2,3)\n",
    "t1"
   ]
  },
  {
   "cell_type": "code",
   "execution_count": 5,
   "id": "31ca430d-9c61-4752-b513-e4c0d056c442",
   "metadata": {},
   "outputs": [],
   "source": [
    "# tidak dapat diubah"
   ]
  },
  {
   "cell_type": "code",
   "execution_count": null,
   "id": "0331df07-fc18-4786-9500-cf9ab8985a4f",
   "metadata": {},
   "outputs": [],
   "source": []
  }
 ],
 "metadata": {
  "kernelspec": {
   "display_name": "Python 3 (ipykernel)",
   "language": "python",
   "name": "python3"
  },
  "language_info": {
   "codemirror_mode": {
    "name": "ipython",
    "version": 3
   },
   "file_extension": ".py",
   "mimetype": "text/x-python",
   "name": "python",
   "nbconvert_exporter": "python",
   "pygments_lexer": "ipython3",
   "version": "3.12.4"
  }
 },
 "nbformat": 4,
 "nbformat_minor": 5
}
